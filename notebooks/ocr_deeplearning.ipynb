{
 "cells": [
  {
   "cell_type": "code",
   "execution_count": 2,
   "metadata": {},
   "outputs": [
    {
     "name": "stdout",
     "output_type": "stream",
     "text": [
      "WARNING:tensorflow:From c:\\Users\\sarda\\OneDrive\\Desktop\\PythonCodes\\PotfolioProjects\\ImageRecogWebScrape\\aiml\\Lib\\site-packages\\keras\\src\\losses.py:2976: The name tf.losses.sparse_softmax_cross_entropy is deprecated. Please use tf.compat.v1.losses.sparse_softmax_cross_entropy instead.\n",
      "\n",
      "WARNING:tensorflow:From c:\\Users\\sarda\\OneDrive\\Desktop\\PythonCodes\\PotfolioProjects\\ImageRecogWebScrape\\aiml\\Lib\\site-packages\\keras\\src\\backend.py:873: The name tf.get_default_graph is deprecated. Please use tf.compat.v1.get_default_graph instead.\n",
      "\n",
      "Looking for C:\\Users\\sarda\\.keras-ocr\\craft_mlt_25k.h5\n",
      "Downloading C:\\Users\\sarda\\.keras-ocr\\craft_mlt_25k.h5\n",
      "WARNING:tensorflow:From c:\\Users\\sarda\\OneDrive\\Desktop\\PythonCodes\\PotfolioProjects\\ImageRecogWebScrape\\aiml\\Lib\\site-packages\\keras\\src\\layers\\normalization\\batch_normalization.py:979: The name tf.nn.fused_batch_norm is deprecated. Please use tf.compat.v1.nn.fused_batch_norm instead.\n",
      "\n",
      "WARNING:tensorflow:From c:\\Users\\sarda\\OneDrive\\Desktop\\PythonCodes\\PotfolioProjects\\ImageRecogWebScrape\\aiml\\Lib\\site-packages\\tensorflow\\python\\util\\dispatch.py:1260: resize_bilinear (from tensorflow.python.ops.image_ops_impl) is deprecated and will be removed in a future version.\n",
      "Instructions for updating:\n",
      "Use `tf.image.resize(...method=ResizeMethod.BILINEAR...)` instead.\n",
      "WARNING:tensorflow:From c:\\Users\\sarda\\OneDrive\\Desktop\\PythonCodes\\PotfolioProjects\\ImageRecogWebScrape\\aiml\\Lib\\site-packages\\keras\\src\\optimizers\\__init__.py:309: The name tf.train.Optimizer is deprecated. Please use tf.compat.v1.train.Optimizer instead.\n",
      "\n",
      "Looking for C:\\Users\\sarda\\.keras-ocr\\crnn_kurapan.h5\n",
      "Downloading C:\\Users\\sarda\\.keras-ocr\\crnn_kurapan.h5\n",
      "1/1 [==============================] - 4s 4s/step\n",
      "1/1 [==============================] - 5s 5s/step\n",
      "Detected text: asve\n"
     ]
    }
   ],
   "source": [
    "import keras_ocr\n",
    "\n",
    "# Get a pre-trained pipeline\n",
    "pipeline = keras_ocr.pipeline.Pipeline()\n",
    "\n",
    "# Read the text from the image\n",
    "images = [keras_ocr.tools.read(r'C:\\Users\\sarda\\OneDrive\\Desktop\\PythonCodes\\PotfolioProjects\\ImageRecogWebScrape\\data\\raw\\images\\Advil--Advil--1.jpg')]\n",
    "prediction_groups = pipeline.recognize(images)\n",
    "\n",
    "# Print the text and bounding boxes\n",
    "for text, box in prediction_groups[0]:\n",
    "    print(f\"Detected text: {text}\")"
   ]
  },
  {
   "cell_type": "code",
   "execution_count": 7,
   "metadata": {},
   "outputs": [
    {
     "name": "stderr",
     "output_type": "stream",
     "text": [
      "Neither CUDA nor MPS are available - defaulting to CPU. Note: This module is much faster with a GPU.\n"
     ]
    },
    {
     "name": "stdout",
     "output_type": "stream",
     "text": [
      "Detected text: 7 1 (Confidence: 0.47)\n",
      "Bounding box: [[180, 80], [248, 80], [248, 130], [180, 130]]\n"
     ]
    }
   ],
   "source": [
    "import easyocr\n",
    "reader = easyocr.Reader(['en'])\n",
    "\n",
    "# Path to your image file\n",
    "image_path = r'C:\\Users\\sarda\\OneDrive\\Desktop\\PythonCodes\\PotfolioProjects\\ImageRecogWebScrape\\data\\raw\\images\\Terbinafine Hydrochloride--D 74--4.jpg'\n",
    "\n",
    "# Perform OCR on the image\n",
    "results = reader.readtext(image_path)\n",
    "\n",
    "# Print the detected text and their bounding boxes\n",
    "for (bbox, text, prob) in results:\n",
    "    print(f'Detected text: {text} (Confidence: {prob:.2f})')\n",
    "    print(f'Bounding box: {bbox}')\n"
   ]
  }
 ],
 "metadata": {
  "kernelspec": {
   "display_name": "aiml",
   "language": "python",
   "name": "python3"
  },
  "language_info": {
   "codemirror_mode": {
    "name": "ipython",
    "version": 3
   },
   "file_extension": ".py",
   "mimetype": "text/x-python",
   "name": "python",
   "nbconvert_exporter": "python",
   "pygments_lexer": "ipython3",
   "version": "3.11.7"
  }
 },
 "nbformat": 4,
 "nbformat_minor": 2
}
